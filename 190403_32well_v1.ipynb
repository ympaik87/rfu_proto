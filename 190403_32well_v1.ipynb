{
 "cells": [
  {
   "cell_type": "markdown",
   "metadata": {},
   "source": [
    "# picture to RFU CLI"
   ]
  },
  {
   "cell_type": "code",
   "execution_count": 1,
   "metadata": {},
   "outputs": [],
   "source": [
    "import pathlib\n",
    "import skimage\n",
    "import cv2\n",
    "import numpy as np\n",
    "import pandas as pd\n",
    "from skimage import feature\n",
    "from PIL import Image\n",
    "import matplotlib\n",
    "import matplotlib.pyplot as plt\n",
    "from sklearn import preprocessing\n",
    "import math\n",
    "%matplotlib inline\n"
   ]
  },
  {
   "cell_type": "code",
   "execution_count": 2,
   "metadata": {},
   "outputs": [],
   "source": [
    "res_dir = pathlib.Path('F:/device/optics/results/pix2rfu_32w')"
   ]
  },
  {
   "cell_type": "code",
   "execution_count": 3,
   "metadata": {},
   "outputs": [],
   "source": [
    "temp_li = ['Low Temp', 'High Temp']\n",
    "x_range = slice(500, 1800)\n",
    "y_range = slice(500, 1800)\n",
    "colors_li = [plt.cm.get_cmap('hsv', 30)(i) for i in range(30)]\n",
    "ch_dict = {\n",
    "    'c': 'CalRed',\n",
    "    'f': 'FAM',\n",
    "    'q6': 'Q670',\n",
    "    'q7': 'Q705',\n",
    "    'h': 'HEX'\n",
    "}"
   ]
  },
  {
   "cell_type": "code",
   "execution_count": 4,
   "metadata": {},
   "outputs": [
    {
     "data": {
      "text/plain": [
       "(2, 0)"
      ]
     },
     "execution_count": 4,
     "metadata": {},
     "output_type": "execute_result"
    }
   ],
   "source": [
    "divmod(4, 2)"
   ]
  },
  {
   "cell_type": "code",
   "execution_count": 5,
   "metadata": {},
   "outputs": [],
   "source": [
    "im_dir = pathlib.Path('F:/device\\optics/images/20190319 Dye calibration plate test/hex/main')"
   ]
  },
  {
   "cell_type": "code",
   "execution_count": 6,
   "metadata": {},
   "outputs": [
    {
     "data": {
      "text/plain": [
       "<matplotlib.image.AxesImage at 0x233c916b358>"
      ]
     },
     "execution_count": 6,
     "metadata": {},
     "output_type": "execute_result"
    },
    {
     "data": {
      "image/png": "[encoded data removed]",
      "text/plain": [
       "<Figure size 432x288 with 1 Axes>"
      ]
     },
     "metadata": {
      "needs_background": "dark"
     },
     "output_type": "display_data"
    }
   ],
   "source": [
    "im = np.array(Image.open(im_dir/'1_0_h.jpg'))\n",
    "im_sum = im.sum(axis=2)\n",
    "plt.imshow(im_sum)"
   ]
  },
  {
   "cell_type": "code",
   "execution_count": 11,
   "metadata": {},
   "outputs": [
    {
     "ename": "NameError",
     "evalue": "name 'im_dir_li' is not defined",
     "output_type": "error",
     "traceback": [
      "\u001b[1;31m---------------------------------------------------------------------------\u001b[0m",
      "\u001b[1;31mNameError\u001b[0m                                 Traceback (most recent call last)",
      "\u001b[1;32m<ipython-input-11-e8e62036cce1>\u001b[0m in \u001b[0;36m<module>\u001b[1;34m\u001b[0m\n\u001b[0;32m      3\u001b[0m \u001b[1;32mfor\u001b[0m \u001b[0mchannel\u001b[0m \u001b[1;32min\u001b[0m \u001b[1;33m[\u001b[0m\u001b[1;34m'c'\u001b[0m\u001b[1;33m,\u001b[0m \u001b[1;34m'f'\u001b[0m\u001b[1;33m,\u001b[0m \u001b[1;34m'q6'\u001b[0m\u001b[1;33m,\u001b[0m \u001b[1;34m'h'\u001b[0m\u001b[1;33m,\u001b[0m \u001b[1;34m'q7'\u001b[0m\u001b[1;33m]\u001b[0m\u001b[1;33m:\u001b[0m\u001b[1;33m\u001b[0m\u001b[1;33m\u001b[0m\u001b[0m\n\u001b[0;32m      4\u001b[0m     \u001b[0m_li\u001b[0m \u001b[1;33m=\u001b[0m \u001b[1;33m[\u001b[0m\u001b[1;33m]\u001b[0m\u001b[1;33m\u001b[0m\u001b[1;33m\u001b[0m\u001b[0m\n\u001b[1;32m----> 5\u001b[1;33m     \u001b[1;32mfor\u001b[0m \u001b[0mim_dir\u001b[0m \u001b[1;32min\u001b[0m \u001b[0mim_dir_li\u001b[0m\u001b[1;33m:\u001b[0m\u001b[1;33m\u001b[0m\u001b[1;33m\u001b[0m\u001b[0m\n\u001b[0m\u001b[0;32m      6\u001b[0m         \u001b[0m_li\u001b[0m\u001b[1;33m.\u001b[0m\u001b[0mappend\u001b[0m\u001b[1;33m(\u001b[0m\u001b[0mim_dir\u001b[0m\u001b[1;33m/\u001b[0m\u001b[1;34mf'44_0_{channel}.jpg'\u001b[0m\u001b[1;33m)\u001b[0m\u001b[1;33m\u001b[0m\u001b[1;33m\u001b[0m\u001b[0m\n\u001b[0;32m      7\u001b[0m     \u001b[0mfig\u001b[0m\u001b[1;33m,\u001b[0m \u001b[0max\u001b[0m \u001b[1;33m=\u001b[0m \u001b[0mplt\u001b[0m\u001b[1;33m.\u001b[0m\u001b[0msubplots\u001b[0m\u001b[1;33m(\u001b[0m\u001b[1;36m3\u001b[0m\u001b[1;33m,\u001b[0m \u001b[1;36m2\u001b[0m\u001b[1;33m,\u001b[0m \u001b[0mfigsize\u001b[0m\u001b[1;33m=\u001b[0m\u001b[1;33m(\u001b[0m\u001b[1;36m12\u001b[0m\u001b[1;33m,\u001b[0m \u001b[1;36m18\u001b[0m\u001b[1;33m)\u001b[0m\u001b[1;33m)\u001b[0m\u001b[1;33m\u001b[0m\u001b[1;33m\u001b[0m\u001b[0m\n",
      "\u001b[1;31mNameError\u001b[0m: name 'im_dir_li' is not defined"
     ]
    }
   ],
   "source": [
    "x_range = slice(600, 2000)\n",
    "y_range = slice(600, 1800)\n",
    "for channel in ['c', 'f', 'q6', 'h', 'q7']:\n",
    "    _li = []\n",
    "    for im_dir in im_dir_li:\n",
    "        _li.append(im_dir/f'44_0_{channel}.jpg')\n",
    "    fig, ax = plt.subplots(3, 2, figsize=(12, 18))\n",
    "    for i in range(len(_li)):\n",
    "        col, row = divmod(i, 2)\n",
    "        im = np.array(Image.open(_li[i]))\n",
    "        im_sum = skimage.transform.rotate(im.sum(axis=2), 180)\n",
    "\n",
    "        im_cropped = im_sum[y_range, x_range]\n",
    "        thresh_sum = skimage.filters.threshold_otsu(im_cropped)\n",
    "        threshed_im_sum = im_cropped > thresh_sum\n",
    "        cleared = skimage.segmentation.clear_border(threshed_im_sum)\n",
    "        bw = skimage.morphology.closing(cleared, skimage.morphology.disk(3))\n",
    "        bw2 = skimage.morphology.opening(bw, skimage.morphology.disk(3))\n",
    "        im_labeled = skimage.measure.label(bw2)\n",
    "        im_res = skimage.color.label2rgb(im_labeled, bg_label=0,\n",
    "                                         colors=colors_li)\n",
    "\n",
    "        ax[col, row].imshow(im_res)\n",
    "        ax[col, row].set_title(f'{_li[i].parent.name} - {_li[i].name}')"
   ]
  },
  {
   "cell_type": "code",
   "execution_count": null,
   "metadata": {},
   "outputs": [],
   "source": []
  }
 ],
 "metadata": {
  "kernelspec": {
   "display_name": "Python 3",
   "language": "python",
   "name": "python3"
  },
  "language_info": {
   "codemirror_mode": {
    "name": "ipython",
    "version": 3
   },
   "file_extension": ".py",
   "mimetype": "text/x-python",
   "name": "python",
   "nbconvert_exporter": "python",
   "pygments_lexer": "ipython3",
   "version": "3.7.3"
  }
 },
 "nbformat": 4,
 "nbformat_minor": 2
}
